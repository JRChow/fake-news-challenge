{
 "cells": [
  {
   "cell_type": "code",
   "execution_count": 1,
   "metadata": {},
   "outputs": [],
   "source": [
    "import pickle\n",
    "import numpy as np\n",
    "import xgboost as xgb\n",
    "from CountFeatureGenerator import *\n",
    "from TfidfFeatureGenerator import *\n",
    "from SvdFeatureGenerator import *\n",
    "from Word2VecFeatureGenerator import *\n",
    "from SentimentFeatureGenerator import *"
   ]
  },
  {
   "cell_type": "code",
   "execution_count": 2,
   "metadata": {},
   "outputs": [],
   "source": [
    "params_xgb = {\n",
    "    'max_depth': 6,\n",
    "    'colsample_bytree': 0.6,\n",
    "    'subsample': 1.0,\n",
    "    'eta': 0.1,\n",
    "    'silent': 1,\n",
    "    'objective': 'multi:softmax',\n",
    "    'eval_metric':'mlogloss',\n",
    "    'num_class': 4\n",
    "}"
   ]
  },
  {
   "cell_type": "code",
   "execution_count": 3,
   "metadata": {},
   "outputs": [
    {
     "name": "stdout",
     "output_type": "stream",
     "text": [
      "related_data loaded, the shape is  (13427, 11)\n",
      "(13427,)\n"
     ]
    }
   ],
   "source": [
    "with open('related_data.pkl','rb') as infile:\n",
    "    related_data = pickle.load(infile)\n",
    "    print('related_data loaded, the shape is ', related_data.shape)\n",
    "train_y = related_data['target'].values\n",
    "print(train_y.shape)"
   ]
  },
  {
   "cell_type": "code",
   "execution_count": 4,
   "metadata": {
    "scrolled": true
   },
   "outputs": [
    {
     "name": "stdout",
     "output_type": "stream",
     "text": [
      "feature names:  ['count_of_Headline_unigram', 'count_of_unique_Headline_unigram', 'ratio_of_unique_Headline_unigram', 'count_of_Headline_bigram', 'count_of_unique_Headline_bigram', 'ratio_of_unique_Headline_bigram', 'count_of_Headline_trigram', 'count_of_unique_Headline_trigram', 'ratio_of_unique_Headline_trigram', 'count_of_articleBody_unigram', 'count_of_unique_articleBody_unigram', 'ratio_of_unique_articleBody_unigram', 'count_of_articleBody_bigram', 'count_of_unique_articleBody_bigram', 'ratio_of_unique_articleBody_bigram', 'count_of_articleBody_trigram', 'count_of_unique_articleBody_trigram', 'ratio_of_unique_articleBody_trigram', 'count_of_Headline_unigram_in_articleBody', 'ratio_of_Headline_unigram_in_articleBody', 'count_of_Headline_bigram_in_articleBody', 'ratio_of_Headline_bigram_in_articleBody', 'count_of_Headline_trigram_in_articleBody', 'ratio_of_Headline_trigram_in_articleBody', 'len_sent_Headline', 'len_sent_articleBody', 'fake_exist', 'fraud_exist', 'hoax_exist', 'false_exist', 'deny_exist', 'denies_exist', 'not_exist', 'despite_exist', 'nope_exist', 'doubt_exist', 'doubts_exist', 'bogus_exist', 'debunk_exist', 'pranks_exist', 'retract_exist']\n",
      "xBasicCounts.shape: (13427, 41)\n",
      "xHeadlineTfidf.shape: (13427, 465091)\n",
      "xBodyTfidf.shape: (13427, 465091)\n",
      "simTfidf.shape: (13427, 1)\n",
      "xHeadlineSvd.shape: (13427, 50)\n",
      "xBodySvd.shape: (13427, 50)\n",
      "simSvd.shape: (13427, 1)\n",
      "headlineVec.shape: (13427, 300)\n",
      "bodyVec.shape: (13427, 300)\n",
      "simVec.shape: (13427, 1)\n",
      "headlineSenti.shape: (13427, 4)\n",
      "bodySenti.shape: (13427, 4)\n",
      "(13427, 752)\n"
     ]
    }
   ],
   "source": [
    "features = []\n",
    "generators = [\n",
    "    CountFeatureGenerator(),\n",
    "    TfidfFeatureGenerator(),\n",
    "    SvdFeatureGenerator(),\n",
    "    Word2VecFeatureGenerator(),\n",
    "    SentimentFeatureGenerator()\n",
    "]\n",
    "for g in generators:\n",
    "    features = g.read(header='train')\n",
    "    if g.name()=='tfidfFeatureGenerator':\n",
    "        features.append(features[-1])\n",
    "    else:\n",
    "        for f in features:\n",
    "            features.append(f)\n",
    "train_X = np.hstack(related_test_features)\n",
    "print(train_X.shape)"
   ]
  },
  {
   "cell_type": "code",
   "execution_count": 5,
   "metadata": {},
   "outputs": [],
   "source": [
    "from sklearn.metrics import accuracy_score\n",
    "from sklearn.model_selection import KFold\n",
    "from sklearn.ensemble import GradientBoostingClassifier"
   ]
  },
  {
   "cell_type": "code",
   "execution_count": 6,
   "metadata": {},
   "outputs": [
    {
     "data": {
      "text/plain": [
       "array([[ 8.        ,  8.        ,  1.        , ...,  0.08      ,\n",
       "         0.885     ,  0.03488235],\n",
       "       [ 5.        ,  5.        ,  1.        , ...,  0.03011429,\n",
       "         0.901     ,  0.06888571],\n",
       "       [13.        , 13.        ,  1.        , ...,  0.14115   ,\n",
       "         0.77945   ,  0.02945   ],\n",
       "       ...,\n",
       "       [11.        , 11.        ,  1.        , ...,  0.10942105,\n",
       "         0.86442105,  0.02615789],\n",
       "       [ 8.        ,  8.        ,  1.        , ...,  0.158     ,\n",
       "         0.728     ,  0.115     ],\n",
       "       [11.        , 11.        ,  1.        , ...,  0.03528571,\n",
       "         0.86414286,  0.10057143]])"
      ]
     },
     "execution_count": 6,
     "metadata": {},
     "output_type": "execute_result"
    }
   ],
   "source": [
    "train_X"
   ]
  },
  {
   "cell_type": "code",
   "execution_count": 7,
   "metadata": {},
   "outputs": [
    {
     "data": {
      "text/plain": [
       "array([0, 1, 0, ..., 2, 0, 2], dtype=int64)"
      ]
     },
     "execution_count": 7,
     "metadata": {},
     "output_type": "execute_result"
    }
   ],
   "source": [
    "train_y"
   ]
  },
  {
   "cell_type": "code",
   "execution_count": 8,
   "metadata": {},
   "outputs": [
    {
     "name": "stdout",
     "output_type": "stream",
     "text": [
      "      Iter       Train Loss   Remaining Time \n",
      "         1        8216.5275           15.49m\n",
      "         2        7920.6262           14.76m\n",
      "         3        7676.0906           14.81m\n",
      "         4        7448.3173           14.80m\n",
      "         5        7267.1475           14.64m\n",
      "         6        7115.8775           14.49m\n",
      "         7        6959.8799           14.38m\n",
      "         8        6839.5640           14.30m\n",
      "         9        6717.7665           14.16m\n",
      "        10        6598.4330           14.05m\n",
      "        20        5851.2523           13.13m\n",
      "        30        5359.3949           12.40m\n",
      "        40        4969.8418           11.71m\n",
      "        50        4681.1144           11.01m\n",
      "        60        4423.3088           10.29m\n",
      "        70        4184.7860            9.55m\n",
      "        80        3972.8249            8.82m\n",
      "        90        3799.5705            8.08m\n",
      "       100        3643.1063            7.35m\n",
      "       200        2591.1783            0.00s\n",
      "accuracy =  0.8912881608339538\n",
      "      Iter       Train Loss   Remaining Time \n",
      "         1        8224.8362           14.08m\n",
      "         2        7918.5756           14.01m\n",
      "         3        7666.7141           13.97m\n",
      "         4        7452.8069           13.91m\n",
      "         5        7252.4023           13.85m\n",
      "         6        7090.9962           13.77m\n",
      "         7        6954.8400           13.70m\n",
      "         8        6833.4658           13.65m\n",
      "         9        6715.4296           13.59m\n",
      "        10        6610.2437           13.52m\n",
      "        20        5868.1329           12.89m\n",
      "        30        5374.0236           12.27m\n",
      "        40        4987.4660           11.58m\n",
      "        50        4670.9142           10.88m\n",
      "        60        4409.0034           10.17m\n",
      "        70        4174.2796            9.45m\n",
      "        80        3991.3485            8.74m\n",
      "        90        3803.1090            8.01m\n",
      "       100        3640.6038            7.29m\n",
      "       200        2568.5104            0.00s\n",
      "accuracy =  0.8883097542814594\n",
      "      Iter       Train Loss   Remaining Time \n",
      "         1        8233.6588           14.08m\n",
      "         2        7937.2448           14.02m\n",
      "         3        7689.4983           13.99m\n",
      "         4        7479.0873           13.93m\n",
      "         5        7303.5432           13.87m\n",
      "         6        7132.5796           13.84m\n",
      "         7        6998.1678           13.78m\n",
      "         8        6878.7359           13.72m\n",
      "         9        6754.2996           13.64m\n",
      "        10        6645.4236           13.57m\n",
      "        20        5886.8382           12.91m\n",
      "        30        5402.5651           12.24m\n",
      "        40        5019.2784           11.55m\n",
      "        50        4733.3995           10.87m\n",
      "        60        4446.1871           10.16m\n",
      "        70        4229.8285            9.44m\n",
      "        80        4022.5118            8.72m\n",
      "        90        3845.4444            8.04m\n",
      "       100        3691.8761            7.31m\n",
      "       200        2621.6824            0.00s\n",
      "accuracy =  0.8893854748603351\n",
      "      Iter       Train Loss   Remaining Time \n",
      "         1        8148.6993           14.19m\n",
      "         2        7842.7331           14.07m\n",
      "         3        7591.1402           13.98m\n",
      "         4        7385.8250           13.92m\n",
      "         5        7184.9863           13.84m\n",
      "         6        7028.8312           13.76m\n",
      "         7        6888.0323           13.71m\n",
      "         8        6766.7770           13.66m\n",
      "         9        6652.9353           13.59m\n",
      "        10        6548.6549           13.54m\n",
      "        20        5791.7899           12.88m\n",
      "        30        5298.3539           12.25m\n",
      "        40        4943.5532           11.66m\n",
      "        50        4640.3772           10.98m\n",
      "        60        4385.1547           10.26m\n",
      "        70        4168.9888            9.53m\n",
      "        80        3971.1542            8.80m\n",
      "        90        3782.8360            8.06m\n",
      "       100        3620.4172            7.32m\n",
      "       200        2535.2989            0.00s\n",
      "accuracy =  0.8804469273743016\n",
      "      Iter       Train Loss   Remaining Time \n",
      "         1        8187.5371           14.13m\n",
      "         2        7891.3083           14.04m\n",
      "         3        7635.3380           13.99m\n",
      "         4        7414.9204           13.93m\n",
      "         5        7212.0597           13.85m\n",
      "         6        7049.4202           13.79m\n",
      "         7        6906.8127           13.72m\n",
      "         8        6783.0920           13.65m\n",
      "         9        6658.9717           13.58m\n",
      "        10        6550.9916           13.51m\n",
      "        20        5799.4467           12.88m\n",
      "        30        5315.4613           12.23m\n",
      "        40        4948.8683           11.55m\n",
      "        50        4627.0873           10.84m\n",
      "        60        4378.9130           10.14m\n",
      "        70        4151.5124            9.43m\n",
      "        80        3955.9440            8.71m\n",
      "        90        3772.7583            7.99m\n",
      "       100        3611.8221            7.27m\n",
      "       200        2553.1449            0.00s\n",
      "accuracy =  0.8849162011173184\n"
     ]
    }
   ],
   "source": [
    "kf = KFold(n_splits=5, shuffle=True, random_state = 1415926)\n",
    "train_cv_acc = []\n",
    "best_score = 0\n",
    "for train_idx, val_idx in kf.split(train_X):\n",
    "    train_data = train_X[train_idx]\n",
    "    train_label = train_y[train_idx]\n",
    "    val_data = train_X[val_idx]\n",
    "    val_label = train_y[val_idx]\n",
    "    clf = GradientBoostingClassifier(n_estimators=200, random_state=14128, verbose=True)\n",
    "    clf.fit(train_data, train_label)\n",
    "    pred_label = clf.predict(val_data)\n",
    "    score = accuracy_score(val_label, pred_label)\n",
    "    if score>best_score:\n",
    "        best_score = score\n",
    "        best_clf=clf\n",
    "    print(\"accuracy = \", score)"
   ]
  },
  {
   "cell_type": "code",
   "execution_count": 10,
   "metadata": {},
   "outputs": [],
   "source": [
    "from joblib import dump, load"
   ]
  },
  {
   "cell_type": "code",
   "execution_count": 11,
   "metadata": {},
   "outputs": [
    {
     "data": {
      "text/plain": [
       "['relation.joblib']"
      ]
     },
     "execution_count": 11,
     "metadata": {},
     "output_type": "execute_result"
    }
   ],
   "source": [
    "dump(best_clf, 'relation.joblib')"
   ]
  },
  {
   "cell_type": "code",
   "execution_count": null,
   "metadata": {},
   "outputs": [],
   "source": []
  }
 ],
 "metadata": {
  "kernelspec": {
   "display_name": "Python 3",
   "language": "python",
   "name": "python3"
  },
  "language_info": {
   "codemirror_mode": {
    "name": "ipython",
    "version": 3
   },
   "file_extension": ".py",
   "mimetype": "text/x-python",
   "name": "python",
   "nbconvert_exporter": "python",
   "pygments_lexer": "ipython3",
   "version": "3.7.1"
  }
 },
 "nbformat": 4,
 "nbformat_minor": 4
}
