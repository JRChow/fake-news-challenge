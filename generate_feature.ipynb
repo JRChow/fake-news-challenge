{
 "cells": [
  {
   "cell_type": "code",
   "execution_count": 1,
   "metadata": {},
   "outputs": [],
   "source": [
    "import pandas as pd\n",
    "import numpy as np\n",
    "import pickle\n",
    "from SentimentFeatureGenerator import *\n",
    "from TfidfFeatureGenerator import *\n",
    "from SvdFeatureGenerator import *\n",
    "from Word2VecFeatureGenerator import *\n",
    "from CountFeatureGenerator import *"
   ]
  },
  {
   "cell_type": "code",
   "execution_count": 2,
   "metadata": {},
   "outputs": [
    {
     "name": "stdout",
     "output_type": "stream",
     "text": [
      "related_data loaded, the shape is  (13427, 11)\n"
     ]
    }
   ],
   "source": [
    "with open('related_data.pkl','rb') as infile:\n",
    "    related_data = pickle.load(infile)\n",
    "    print('related_data loaded, the shape is ', related_data.shape)"
   ]
  },
  {
   "cell_type": "markdown",
   "metadata": {},
   "source": [
    "### Sentiment Feature"
   ]
  },
  {
   "cell_type": "code",
   "execution_count": 3,
   "metadata": {},
   "outputs": [],
   "source": [
    "sentiFG = SentimentFeatureGenerator()"
   ]
  },
  {
   "cell_type": "code",
   "execution_count": 4,
   "metadata": {},
   "outputs": [
    {
     "name": "stdout",
     "output_type": "stream",
     "text": [
      "generating sentiment features\n",
      "for headline\n",
      "headlineSenti.shape: (13427, 4)\n",
      "headline sentiment features of dataset saved in train.headline.senti.pkl\n",
      "headine senti done\n",
      "for body\n",
      "bodySenti.shape: (13427, 4)\n",
      "body sentiment features of dataset saved in train.body.senti.pkl\n"
     ]
    }
   ],
   "source": [
    "headlineSenti, bodySenti = sentiFG.process(related_data)"
   ]
  },
  {
   "cell_type": "code",
   "execution_count": 4,
   "metadata": {
    "scrolled": true
   },
   "outputs": [
    {
     "name": "stdout",
     "output_type": "stream",
     "text": [
      "headlineSenti.shape: (13427, 4)\n",
      "bodySenti.shape: (13427, 4)\n"
     ]
    }
   ],
   "source": [
    "headlineSenti, bodySenti = sentiFG.read()"
   ]
  },
  {
   "cell_type": "code",
   "execution_count": 7,
   "metadata": {},
   "outputs": [
    {
     "data": {
      "text/plain": [
       "array([[ 0.    ,  0.    ,  1.    ,  0.    ],\n",
       "       [ 0.    ,  0.    ,  1.    ,  0.    ],\n",
       "       [-0.6249,  0.267 ,  0.733 ,  0.    ],\n",
       "       ...,\n",
       "       [-0.5106,  0.281 ,  0.719 ,  0.    ],\n",
       "       [-0.5267,  0.355 ,  0.645 ,  0.    ],\n",
       "       [-0.0516,  0.091 ,  0.909 ,  0.    ]])"
      ]
     },
     "execution_count": 7,
     "metadata": {},
     "output_type": "execute_result"
    }
   ],
   "source": [
    "headlineSenti"
   ]
  },
  {
   "cell_type": "code",
   "execution_count": 8,
   "metadata": {},
   "outputs": [
    {
     "data": {
      "text/plain": [
       "array([[-0.20880588,  0.08      ,  0.885     ,  0.03488235],\n",
       "       [ 0.11378286,  0.03011429,  0.901     ,  0.06888571],\n",
       "       [-0.289575  ,  0.14115   ,  0.77945   ,  0.02945   ],\n",
       "       ...,\n",
       "       [-0.29746316,  0.10942105,  0.86442105,  0.02615789],\n",
       "       [-0.1808    ,  0.158     ,  0.728     ,  0.115     ],\n",
       "       [-0.00757143,  0.03528571,  0.86414286,  0.10057143]])"
      ]
     },
     "execution_count": 8,
     "metadata": {},
     "output_type": "execute_result"
    }
   ],
   "source": [
    "bodySenti"
   ]
  },
  {
   "cell_type": "markdown",
   "metadata": {},
   "source": [
    "### Tf-idf Feature"
   ]
  },
  {
   "cell_type": "code",
   "execution_count": 5,
   "metadata": {},
   "outputs": [],
   "source": [
    "tfidfFG = TfidfFeatureGenerator()"
   ]
  },
  {
   "cell_type": "code",
   "execution_count": 4,
   "metadata": {},
   "outputs": [
    {
     "name": "stdout",
     "output_type": "stream",
     "text": [
      "xHeadlineTfidf.shape: (13427, 465091)\n",
      "headline tfidf features of data set saved in train.headline.tfidf.pkl\n",
      "xBodyTfidf.shape: (13427, 465091)\n",
      "body tfidf features of data set saved in train.body.tfidf.pkl\n",
      "simTfidf.shape: (13427, 1)\n",
      "tfidf sim. features of data set saved in train.sim.tfidf.pkl\n"
     ]
    }
   ],
   "source": [
    "xHeadlineTfidf, xBodyTfidf, simTfidf = tfidfFG.process(related_data)"
   ]
  },
  {
   "cell_type": "code",
   "execution_count": 6,
   "metadata": {},
   "outputs": [
    {
     "name": "stdout",
     "output_type": "stream",
     "text": [
      "xHeadlineTfidf.shape: (13427, 465091)\n",
      "xBodyTfidf.shape: (13427, 465091)\n",
      "simTfidf.shape: (13427, 1)\n"
     ]
    }
   ],
   "source": [
    "xHeadlineTfidf, xBodyTfidf, simTfidf = tfidfFG.read()"
   ]
  },
  {
   "cell_type": "code",
   "execution_count": 7,
   "metadata": {},
   "outputs": [
    {
     "data": {
      "text/plain": [
       "<13427x465091 sparse matrix of type '<class 'numpy.float64'>'\n",
       "\twith 294456 stored elements in Compressed Sparse Row format>"
      ]
     },
     "execution_count": 7,
     "metadata": {},
     "output_type": "execute_result"
    }
   ],
   "source": [
    "xHeadlineTfidf"
   ]
  },
  {
   "cell_type": "code",
   "execution_count": 8,
   "metadata": {},
   "outputs": [
    {
     "data": {
      "text/plain": [
       "<13427x465091 sparse matrix of type '<class 'numpy.float64'>'\n",
       "\twith 7687948 stored elements in Compressed Sparse Row format>"
      ]
     },
     "execution_count": 8,
     "metadata": {},
     "output_type": "execute_result"
    }
   ],
   "source": [
    "xBodyTfidf"
   ]
  },
  {
   "cell_type": "code",
   "execution_count": 9,
   "metadata": {},
   "outputs": [
    {
     "data": {
      "text/plain": [
       "array([[0.21916453],\n",
       "       [0.08369312],\n",
       "       [0.48043096],\n",
       "       ...,\n",
       "       [0.11251515],\n",
       "       [0.21891469],\n",
       "       [0.22920424]])"
      ]
     },
     "execution_count": 9,
     "metadata": {},
     "output_type": "execute_result"
    }
   ],
   "source": [
    "simTfidf"
   ]
  },
  {
   "cell_type": "markdown",
   "metadata": {},
   "source": [
    "### SVD Feature"
   ]
  },
  {
   "cell_type": "code",
   "execution_count": 7,
   "metadata": {},
   "outputs": [],
   "source": [
    "svdFG = SvdFeatureGenerator()"
   ]
  },
  {
   "cell_type": "code",
   "execution_count": 13,
   "metadata": {},
   "outputs": [
    {
     "name": "stdout",
     "output_type": "stream",
     "text": [
      "xHeadlineTfidf.shape: (13427, 465091)\n",
      "xBodyTfidf.shape: (13427, 465091)\n",
      "simTfidf.shape: (13427, 1)\n",
      "xHeadlineTfidf.shape: (13427, 465091)\n",
      "xHeadlineSvd.shape: (13427, 50)\n",
      "headline svd features of data set saved in train.headline.svd.pkl\n",
      "xBodySvd.shape: (13427, 50)\n",
      "body svd features of training set saved in train.body.svd.pkl\n",
      "simSvd.shape: (13427, 1)\n",
      "svd sim. features of data set saved in train.sim.svd.pkl\n"
     ]
    }
   ],
   "source": [
    "xHeadlineSvd, xBodySvd, simSvd = svdFG.process(related_data)"
   ]
  },
  {
   "cell_type": "code",
   "execution_count": 8,
   "metadata": {},
   "outputs": [
    {
     "name": "stdout",
     "output_type": "stream",
     "text": [
      "xHeadlineSvd.shape: (13427, 50)\n",
      "xBodySvd.shape: (13427, 50)\n",
      "simSvd.shape: (13427, 1)\n"
     ]
    }
   ],
   "source": [
    "xHeadlineSvd, xBodySvd, simSvd = svdFG.read()"
   ]
  },
  {
   "cell_type": "code",
   "execution_count": 15,
   "metadata": {},
   "outputs": [
    {
     "data": {
      "text/plain": [
       "array([[ 0.00946175,  0.0050689 ,  0.00026978, ..., -0.00184472,\n",
       "        -0.00064748,  0.0021689 ],\n",
       "       [ 0.00725327,  0.00672148,  0.00453269, ..., -0.00411231,\n",
       "         0.01424235, -0.01555256],\n",
       "       [ 0.02290207,  0.0099219 ,  0.00556221, ..., -0.0085098 ,\n",
       "        -0.00273058,  0.00461319],\n",
       "       ...,\n",
       "       [ 0.01377683,  0.01030005,  0.00608008, ..., -0.01475132,\n",
       "        -0.03156204,  0.09696381],\n",
       "       [ 0.03616258,  0.01792806,  0.00502755, ...,  0.01937278,\n",
       "        -0.00843153, -0.01184159],\n",
       "       [ 0.074275  , -0.0032135 ,  0.00769897, ..., -0.00488338,\n",
       "        -0.01665699, -0.00237974]])"
      ]
     },
     "execution_count": 15,
     "metadata": {},
     "output_type": "execute_result"
    }
   ],
   "source": [
    "xHeadlineSvd"
   ]
  },
  {
   "cell_type": "code",
   "execution_count": 16,
   "metadata": {},
   "outputs": [
    {
     "data": {
      "text/plain": [
       "array([[ 0.03470985,  0.0165338 ,  0.00626395, ...,  0.00180585,\n",
       "         0.0014676 , -0.0014639 ],\n",
       "       [ 0.05791692,  0.04302227,  0.0225927 , ...,  0.00610377,\n",
       "         0.03707987, -0.06138535],\n",
       "       [ 0.03560127,  0.01844605,  0.00723456, ..., -0.0029751 ,\n",
       "        -0.00315884,  0.00269786],\n",
       "       ...,\n",
       "       [ 0.05445808,  0.03474754,  0.02245391, ..., -0.03344893,\n",
       "        -0.05388869,  0.17474985],\n",
       "       [ 0.02843657,  0.01098039,  0.00488299, ...,  0.0212003 ,\n",
       "         0.00831135, -0.01016702],\n",
       "       [ 0.06298217,  0.01776889,  0.01972082, ..., -0.00737732,\n",
       "        -0.00059831,  0.00025636]])"
      ]
     },
     "execution_count": 16,
     "metadata": {},
     "output_type": "execute_result"
    }
   ],
   "source": [
    "xBodySvd"
   ]
  },
  {
   "cell_type": "code",
   "execution_count": 17,
   "metadata": {},
   "outputs": [
    {
     "data": {
      "text/plain": [
       "array([[0.67881047],\n",
       "       [0.96043358],\n",
       "       [0.92683648],\n",
       "       ...,\n",
       "       [0.97444611],\n",
       "       [0.98837432],\n",
       "       [0.92934904]])"
      ]
     },
     "execution_count": 17,
     "metadata": {},
     "output_type": "execute_result"
    }
   ],
   "source": [
    "simSvd"
   ]
  },
  {
   "cell_type": "markdown",
   "metadata": {},
   "source": [
    "### Word2Vec Feature"
   ]
  },
  {
   "cell_type": "code",
   "execution_count": 9,
   "metadata": {},
   "outputs": [],
   "source": [
    "word2vecFG = Word2VecFeatureGenerator()"
   ]
  },
  {
   "cell_type": "code",
   "execution_count": 4,
   "metadata": {},
   "outputs": [
    {
     "name": "stdout",
     "output_type": "stream",
     "text": [
      "generating word2vec features\n",
      "model loaded\n",
      "Headline_unigram_array:  (13427,)\n",
      "headlineVec  (13427, 300)\n",
      "headline word2vec features of data set saved in train.headline.word2vec.pkl\n",
      "headine done\n",
      "Body_unigram_array:  (13427,)\n",
      "bodyVec  (13427, 300)\n",
      "body word2vec features of data set saved in train.body.word2vec.pkl\n",
      "body done\n",
      "simVec.shape: (13427, 1)\n",
      "word2vec sim. features of data set saved in train.sim.word2vec.pkl\n"
     ]
    }
   ],
   "source": [
    "headlineVec, bodyVec, simVec = word2vecFG.process(related_data)"
   ]
  },
  {
   "cell_type": "code",
   "execution_count": 10,
   "metadata": {},
   "outputs": [
    {
     "name": "stdout",
     "output_type": "stream",
     "text": [
      "headlineVec.shape: (13427, 300)\n",
      "bodyVec.shape: (13427, 300)\n",
      "simVec.shape: (13427, 1)\n"
     ]
    }
   ],
   "source": [
    "headlineVec, bodyVec, simVec = word2vecFG.read()"
   ]
  },
  {
   "cell_type": "code",
   "execution_count": 6,
   "metadata": {},
   "outputs": [
    {
     "data": {
      "text/plain": [
       "array([[ 7.50404004e-02,  3.59492218e-02, -9.60042341e-05, ...,\n",
       "        -5.12837163e-02,  4.00992231e-02,  1.19219803e-02],\n",
       "       [ 9.30009363e-02,  6.74728992e-02, -2.34021717e-03, ...,\n",
       "         3.66163289e-03, -3.15727574e-02,  7.23588591e-02],\n",
       "       [ 4.94563485e-02,  3.54900092e-02,  2.47389705e-02, ...,\n",
       "        -1.01362450e-01,  6.23018475e-02,  6.16364098e-04],\n",
       "       ...,\n",
       "       [ 1.06946061e-01,  2.25469069e-03,  4.35728569e-02, ...,\n",
       "        -5.38823400e-02,  6.29824995e-02,  7.73967057e-03],\n",
       "       [ 7.17788898e-02, -1.76894229e-02,  7.37191665e-02, ...,\n",
       "        -1.04984853e-02,  9.00299718e-02, -7.46042050e-03],\n",
       "       [-1.37780814e-02,  5.00387097e-02,  1.75331500e-02, ...,\n",
       "        -4.76819626e-02,  5.50542048e-02, -4.90198838e-02]])"
      ]
     },
     "execution_count": 6,
     "metadata": {},
     "output_type": "execute_result"
    }
   ],
   "source": [
    "headlineVec"
   ]
  },
  {
   "cell_type": "code",
   "execution_count": 7,
   "metadata": {},
   "outputs": [
    {
     "data": {
      "text/plain": [
       "array([[ 0.04067834,  0.06328456,  0.03503142, ..., -0.04174063,\n",
       "         0.06769959, -0.00987635],\n",
       "       [ 0.03886664,  0.06263685,  0.03154274, ..., -0.05163963,\n",
       "         0.04191154, -0.0214333 ],\n",
       "       [ 0.03099006,  0.03090744,  0.04150776, ..., -0.06714159,\n",
       "         0.04690744, -0.04100797],\n",
       "       ...,\n",
       "       [ 0.02614567,  0.02926969,  0.07045992, ..., -0.06479935,\n",
       "         0.07556425, -0.04714514],\n",
       "       [ 0.03961257,  0.01573018,  0.07511423, ..., -0.04345158,\n",
       "         0.08092605, -0.05160161],\n",
       "       [-0.01027013,  0.01112148,  0.02871667, ..., -0.06595363,\n",
       "         0.04836444, -0.05488853]])"
      ]
     },
     "execution_count": 7,
     "metadata": {},
     "output_type": "execute_result"
    }
   ],
   "source": [
    "bodyVec"
   ]
  },
  {
   "cell_type": "code",
   "execution_count": 8,
   "metadata": {},
   "outputs": [
    {
     "data": {
      "text/plain": [
       "array([[0.72038103],\n",
       "       [0.58138594],\n",
       "       [0.87521635],\n",
       "       ...,\n",
       "       [0.77254695],\n",
       "       [0.78604965],\n",
       "       [0.77248578]])"
      ]
     },
     "execution_count": 8,
     "metadata": {},
     "output_type": "execute_result"
    }
   ],
   "source": [
    "simVec"
   ]
  },
  {
   "cell_type": "markdown",
   "metadata": {},
   "source": [
    "### Basic Count Feature"
   ]
  },
  {
   "cell_type": "code",
   "execution_count": 11,
   "metadata": {},
   "outputs": [],
   "source": [
    "countFG = CountFeatureGenerator()"
   ]
  },
  {
   "cell_type": "code",
   "execution_count": 4,
   "metadata": {},
   "outputs": [
    {
     "name": "stdout",
     "output_type": "stream",
     "text": [
      "generate counting features\n",
      "basic counting features for training saved in feature_pkl/train.basic.pkl\n"
     ]
    }
   ],
   "source": [
    "xBasicCounts = countFG.process(related_data)"
   ]
  },
  {
   "cell_type": "code",
   "execution_count": 12,
   "metadata": {},
   "outputs": [
    {
     "name": "stdout",
     "output_type": "stream",
     "text": [
      "feature names:  ['count_of_Headline_unigram', 'count_of_unique_Headline_unigram', 'ratio_of_unique_Headline_unigram', 'count_of_Headline_bigram', 'count_of_unique_Headline_bigram', 'ratio_of_unique_Headline_bigram', 'count_of_Headline_trigram', 'count_of_unique_Headline_trigram', 'ratio_of_unique_Headline_trigram', 'count_of_articleBody_unigram', 'count_of_unique_articleBody_unigram', 'ratio_of_unique_articleBody_unigram', 'count_of_articleBody_bigram', 'count_of_unique_articleBody_bigram', 'ratio_of_unique_articleBody_bigram', 'count_of_articleBody_trigram', 'count_of_unique_articleBody_trigram', 'ratio_of_unique_articleBody_trigram', 'count_of_Headline_unigram_in_articleBody', 'ratio_of_Headline_unigram_in_articleBody', 'count_of_Headline_bigram_in_articleBody', 'ratio_of_Headline_bigram_in_articleBody', 'count_of_Headline_trigram_in_articleBody', 'ratio_of_Headline_trigram_in_articleBody', 'len_sent_Headline', 'len_sent_articleBody', 'fake_exist', 'fraud_exist', 'hoax_exist', 'false_exist', 'deny_exist', 'denies_exist', 'not_exist', 'despite_exist', 'nope_exist', 'doubt_exist', 'doubts_exist', 'bogus_exist', 'debunk_exist', 'pranks_exist', 'retract_exist']\n",
      "xBasicCounts.shape: (13427, 41)\n"
     ]
    }
   ],
   "source": [
    "xBasicCounts = countFG.read()"
   ]
  }
 ],
 "metadata": {
  "kernelspec": {
   "display_name": "Python 3",
   "language": "python",
   "name": "python3"
  },
  "language_info": {
   "codemirror_mode": {
    "name": "ipython",
    "version": 3
   },
   "file_extension": ".py",
   "mimetype": "text/x-python",
   "name": "python",
   "nbconvert_exporter": "python",
   "pygments_lexer": "ipython3",
   "version": "3.7.1"
  }
 },
 "nbformat": 4,
 "nbformat_minor": 4
}
