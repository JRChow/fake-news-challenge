{
 "cells": [
  {
   "cell_type": "code",
   "execution_count": 1,
   "metadata": {},
   "outputs": [],
   "source": [
    "from ngram import *\n",
    "import pandas as pd\n",
    "import numpy as np\n",
    "import pickle"
   ]
  },
  {
   "cell_type": "code",
   "execution_count": 2,
   "metadata": {},
   "outputs": [],
   "source": [
    "body_train = pd.read_csv(\"fnc-1/train_bodies_processed.csv\")\n",
    "stances_train = pd.read_csv(\"fnc-1/train_stances_processed.csv\")"
   ]
  },
  {
   "cell_type": "code",
   "execution_count": 3,
   "metadata": {},
   "outputs": [],
   "source": [
    "train = pd.merge(stances_train, body_train, how='left', on='Body ID')"
   ]
  },
  {
   "cell_type": "code",
   "execution_count": 4,
   "metadata": {},
   "outputs": [
    {
     "data": {
      "text/html": [
       "<div>\n",
       "<style scoped>\n",
       "    .dataframe tbody tr th:only-of-type {\n",
       "        vertical-align: middle;\n",
       "    }\n",
       "\n",
       "    .dataframe tbody tr th {\n",
       "        vertical-align: top;\n",
       "    }\n",
       "\n",
       "    .dataframe thead th {\n",
       "        text-align: right;\n",
       "    }\n",
       "</style>\n",
       "<table border=\"1\" class=\"dataframe\">\n",
       "  <thead>\n",
       "    <tr style=\"text-align: right;\">\n",
       "      <th></th>\n",
       "      <th>Headline</th>\n",
       "      <th>Body ID</th>\n",
       "      <th>Stance</th>\n",
       "      <th>articleBody</th>\n",
       "    </tr>\n",
       "  </thead>\n",
       "  <tbody>\n",
       "    <tr>\n",
       "      <th>0</th>\n",
       "      <td>Police find mass graves with at least '15 bodi...</td>\n",
       "      <td>712</td>\n",
       "      <td>unrelated</td>\n",
       "      <td>Danny Boyle is directing the untitled film\\n\\n...</td>\n",
       "    </tr>\n",
       "    <tr>\n",
       "      <th>1</th>\n",
       "      <td>Hundreds of Palestinians flee floods in Gaza a...</td>\n",
       "      <td>158</td>\n",
       "      <td>agree</td>\n",
       "      <td>Hundreds of Palestinians were evacuated from t...</td>\n",
       "    </tr>\n",
       "    <tr>\n",
       "      <th>2</th>\n",
       "      <td>Christian Bale passes on role of Steve Jobs, a...</td>\n",
       "      <td>137</td>\n",
       "      <td>unrelated</td>\n",
       "      <td>30-year-old Moscow resident was hospitalized w...</td>\n",
       "    </tr>\n",
       "    <tr>\n",
       "      <th>3</th>\n",
       "      <td>HBO and Apple in Talks for $15/Month Apple TV ...</td>\n",
       "      <td>1034</td>\n",
       "      <td>unrelated</td>\n",
       "      <td>(Reuters) - A Canadian soldier was shot at the...</td>\n",
       "    </tr>\n",
       "    <tr>\n",
       "      <th>4</th>\n",
       "      <td>Spider burrowed through tourist's stomach and ...</td>\n",
       "      <td>1923</td>\n",
       "      <td>disagree</td>\n",
       "      <td>Fear not arachnophobes, the story of Bunbury's...</td>\n",
       "    </tr>\n",
       "  </tbody>\n",
       "</table>\n",
       "</div>"
      ],
      "text/plain": [
       "                                            Headline  Body ID     Stance  \\\n",
       "0  Police find mass graves with at least '15 bodi...      712  unrelated   \n",
       "1  Hundreds of Palestinians flee floods in Gaza a...      158      agree   \n",
       "2  Christian Bale passes on role of Steve Jobs, a...      137  unrelated   \n",
       "3  HBO and Apple in Talks for $15/Month Apple TV ...     1034  unrelated   \n",
       "4  Spider burrowed through tourist's stomach and ...     1923   disagree   \n",
       "\n",
       "                                         articleBody  \n",
       "0  Danny Boyle is directing the untitled film\\n\\n...  \n",
       "1  Hundreds of Palestinians were evacuated from t...  \n",
       "2  30-year-old Moscow resident was hospitalized w...  \n",
       "3  (Reuters) - A Canadian soldier was shot at the...  \n",
       "4  Fear not arachnophobes, the story of Bunbury's...  "
      ]
     },
     "execution_count": 4,
     "metadata": {},
     "output_type": "execute_result"
    }
   ],
   "source": [
    "train.head()"
   ]
  },
  {
   "cell_type": "code",
   "execution_count": 5,
   "metadata": {},
   "outputs": [],
   "source": [
    "targets=['agree','disagree','discuss','unrelated']\n",
    "targets_dict = dict(zip(targets, range(len(targets))))\n",
    "train['target'] = list(map(lambda x: targets_dict[x], train['Stance']))"
   ]
  },
  {
   "cell_type": "code",
   "execution_count": 6,
   "metadata": {},
   "outputs": [
    {
     "data": {
      "text/plain": [
       "(49972, 5)"
      ]
     },
     "execution_count": 6,
     "metadata": {},
     "output_type": "execute_result"
    }
   ],
   "source": [
    "train.shape"
   ]
  },
  {
   "cell_type": "code",
   "execution_count": 7,
   "metadata": {},
   "outputs": [
    {
     "data": {
      "text/html": [
       "<div>\n",
       "<style scoped>\n",
       "    .dataframe tbody tr th:only-of-type {\n",
       "        vertical-align: middle;\n",
       "    }\n",
       "\n",
       "    .dataframe tbody tr th {\n",
       "        vertical-align: top;\n",
       "    }\n",
       "\n",
       "    .dataframe thead th {\n",
       "        text-align: right;\n",
       "    }\n",
       "</style>\n",
       "<table border=\"1\" class=\"dataframe\">\n",
       "  <thead>\n",
       "    <tr style=\"text-align: right;\">\n",
       "      <th></th>\n",
       "      <th>Headline</th>\n",
       "      <th>Body ID</th>\n",
       "      <th>Stance</th>\n",
       "      <th>articleBody</th>\n",
       "      <th>target</th>\n",
       "    </tr>\n",
       "  </thead>\n",
       "  <tbody>\n",
       "    <tr>\n",
       "      <th>0</th>\n",
       "      <td>Police find mass graves with at least '15 bodi...</td>\n",
       "      <td>712</td>\n",
       "      <td>unrelated</td>\n",
       "      <td>Danny Boyle is directing the untitled film\\n\\n...</td>\n",
       "      <td>3</td>\n",
       "    </tr>\n",
       "    <tr>\n",
       "      <th>1</th>\n",
       "      <td>Hundreds of Palestinians flee floods in Gaza a...</td>\n",
       "      <td>158</td>\n",
       "      <td>agree</td>\n",
       "      <td>Hundreds of Palestinians were evacuated from t...</td>\n",
       "      <td>0</td>\n",
       "    </tr>\n",
       "    <tr>\n",
       "      <th>2</th>\n",
       "      <td>Christian Bale passes on role of Steve Jobs, a...</td>\n",
       "      <td>137</td>\n",
       "      <td>unrelated</td>\n",
       "      <td>30-year-old Moscow resident was hospitalized w...</td>\n",
       "      <td>3</td>\n",
       "    </tr>\n",
       "    <tr>\n",
       "      <th>3</th>\n",
       "      <td>HBO and Apple in Talks for $15/Month Apple TV ...</td>\n",
       "      <td>1034</td>\n",
       "      <td>unrelated</td>\n",
       "      <td>(Reuters) - A Canadian soldier was shot at the...</td>\n",
       "      <td>3</td>\n",
       "    </tr>\n",
       "    <tr>\n",
       "      <th>4</th>\n",
       "      <td>Spider burrowed through tourist's stomach and ...</td>\n",
       "      <td>1923</td>\n",
       "      <td>disagree</td>\n",
       "      <td>Fear not arachnophobes, the story of Bunbury's...</td>\n",
       "      <td>1</td>\n",
       "    </tr>\n",
       "  </tbody>\n",
       "</table>\n",
       "</div>"
      ],
      "text/plain": [
       "                                            Headline  Body ID     Stance  \\\n",
       "0  Police find mass graves with at least '15 bodi...      712  unrelated   \n",
       "1  Hundreds of Palestinians flee floods in Gaza a...      158      agree   \n",
       "2  Christian Bale passes on role of Steve Jobs, a...      137  unrelated   \n",
       "3  HBO and Apple in Talks for $15/Month Apple TV ...     1034  unrelated   \n",
       "4  Spider burrowed through tourist's stomach and ...     1923   disagree   \n",
       "\n",
       "                                         articleBody  target  \n",
       "0  Danny Boyle is directing the untitled film\\n\\n...       3  \n",
       "1  Hundreds of Palestinians were evacuated from t...       0  \n",
       "2  30-year-old Moscow resident was hospitalized w...       3  \n",
       "3  (Reuters) - A Canadian soldier was shot at the...       3  \n",
       "4  Fear not arachnophobes, the story of Bunbury's...       1  "
      ]
     },
     "execution_count": 7,
     "metadata": {},
     "output_type": "execute_result"
    }
   ],
   "source": [
    "train.head()"
   ]
  },
  {
   "cell_type": "code",
   "execution_count": 8,
   "metadata": {},
   "outputs": [],
   "source": [
    "related_data = train[train.target!=3]"
   ]
  },
  {
   "cell_type": "code",
   "execution_count": 9,
   "metadata": {},
   "outputs": [
    {
     "data": {
      "text/plain": [
       "(13427, 5)"
      ]
     },
     "execution_count": 9,
     "metadata": {},
     "output_type": "execute_result"
    }
   ],
   "source": [
    "related_data.shape"
   ]
  },
  {
   "cell_type": "code",
   "execution_count": 10,
   "metadata": {},
   "outputs": [
    {
     "data": {
      "text/html": [
       "<div>\n",
       "<style scoped>\n",
       "    .dataframe tbody tr th:only-of-type {\n",
       "        vertical-align: middle;\n",
       "    }\n",
       "\n",
       "    .dataframe tbody tr th {\n",
       "        vertical-align: top;\n",
       "    }\n",
       "\n",
       "    .dataframe thead th {\n",
       "        text-align: right;\n",
       "    }\n",
       "</style>\n",
       "<table border=\"1\" class=\"dataframe\">\n",
       "  <thead>\n",
       "    <tr style=\"text-align: right;\">\n",
       "      <th></th>\n",
       "      <th>Headline</th>\n",
       "      <th>Body ID</th>\n",
       "      <th>Stance</th>\n",
       "      <th>articleBody</th>\n",
       "      <th>target</th>\n",
       "    </tr>\n",
       "  </thead>\n",
       "  <tbody>\n",
       "    <tr>\n",
       "      <th>1</th>\n",
       "      <td>Hundreds of Palestinians flee floods in Gaza a...</td>\n",
       "      <td>158</td>\n",
       "      <td>agree</td>\n",
       "      <td>Hundreds of Palestinians were evacuated from t...</td>\n",
       "      <td>0</td>\n",
       "    </tr>\n",
       "    <tr>\n",
       "      <th>4</th>\n",
       "      <td>Spider burrowed through tourist's stomach and ...</td>\n",
       "      <td>1923</td>\n",
       "      <td>disagree</td>\n",
       "      <td>Fear not arachnophobes, the story of Bunbury's...</td>\n",
       "      <td>1</td>\n",
       "    </tr>\n",
       "    <tr>\n",
       "      <th>5</th>\n",
       "      <td>'Nasa Confirms Earth Will Experience 6 Days of...</td>\n",
       "      <td>154</td>\n",
       "      <td>agree</td>\n",
       "      <td>Thousands of people have been duped by a fake ...</td>\n",
       "      <td>0</td>\n",
       "    </tr>\n",
       "    <tr>\n",
       "      <th>8</th>\n",
       "      <td>Banksy 'Arrested &amp; Real Identity Revealed' Is ...</td>\n",
       "      <td>1739</td>\n",
       "      <td>agree</td>\n",
       "      <td>If you’ve seen a story floating around on your...</td>\n",
       "      <td>0</td>\n",
       "    </tr>\n",
       "    <tr>\n",
       "      <th>10</th>\n",
       "      <td>Gateway Pundit</td>\n",
       "      <td>2327</td>\n",
       "      <td>discuss</td>\n",
       "      <td>A British rapper whose father is awaiting tria...</td>\n",
       "      <td>2</td>\n",
       "    </tr>\n",
       "  </tbody>\n",
       "</table>\n",
       "</div>"
      ],
      "text/plain": [
       "                                             Headline  Body ID    Stance  \\\n",
       "1   Hundreds of Palestinians flee floods in Gaza a...      158     agree   \n",
       "4   Spider burrowed through tourist's stomach and ...     1923  disagree   \n",
       "5   'Nasa Confirms Earth Will Experience 6 Days of...      154     agree   \n",
       "8   Banksy 'Arrested & Real Identity Revealed' Is ...     1739     agree   \n",
       "10                                     Gateway Pundit     2327   discuss   \n",
       "\n",
       "                                          articleBody  target  \n",
       "1   Hundreds of Palestinians were evacuated from t...       0  \n",
       "4   Fear not arachnophobes, the story of Bunbury's...       1  \n",
       "5   Thousands of people have been duped by a fake ...       0  \n",
       "8   If you’ve seen a story floating around on your...       0  \n",
       "10  A British rapper whose father is awaiting tria...       2  "
      ]
     },
     "execution_count": 10,
     "metadata": {},
     "output_type": "execute_result"
    }
   ],
   "source": [
    "related_data.head()"
   ]
  },
  {
   "cell_type": "code",
   "execution_count": 15,
   "metadata": {},
   "outputs": [
    {
     "name": "stdout",
     "output_type": "stream",
     "text": [
      "generate unigram\n"
     ]
    },
    {
     "name": "stderr",
     "output_type": "stream",
     "text": [
      "C:\\Users\\libod\\Anaconda3\\lib\\site-packages\\ipykernel_launcher.py:2: SettingWithCopyWarning: \n",
      "A value is trying to be set on a copy of a slice from a DataFrame.\n",
      "Try using .loc[row_indexer,col_indexer] = value instead\n",
      "\n",
      "See the caveats in the documentation: https://pandas.pydata.org/pandas-docs/stable/user_guide/indexing.html#returning-a-view-versus-a-copy\n",
      "  \n",
      "C:\\Users\\libod\\Anaconda3\\lib\\site-packages\\ipykernel_launcher.py:3: SettingWithCopyWarning: \n",
      "A value is trying to be set on a copy of a slice from a DataFrame.\n",
      "Try using .loc[row_indexer,col_indexer] = value instead\n",
      "\n",
      "See the caveats in the documentation: https://pandas.pydata.org/pandas-docs/stable/user_guide/indexing.html#returning-a-view-versus-a-copy\n",
      "  This is separate from the ipykernel package so we can avoid doing imports until\n",
      "C:\\Users\\libod\\Anaconda3\\lib\\site-packages\\ipykernel_launcher.py:6: SettingWithCopyWarning: \n",
      "A value is trying to be set on a copy of a slice from a DataFrame.\n",
      "Try using .loc[row_indexer,col_indexer] = value instead\n",
      "\n",
      "See the caveats in the documentation: https://pandas.pydata.org/pandas-docs/stable/user_guide/indexing.html#returning-a-view-versus-a-copy\n",
      "  \n"
     ]
    },
    {
     "name": "stdout",
     "output_type": "stream",
     "text": [
      "generate bigram\n"
     ]
    },
    {
     "name": "stderr",
     "output_type": "stream",
     "text": [
      "C:\\Users\\libod\\Anaconda3\\lib\\site-packages\\ipykernel_launcher.py:7: SettingWithCopyWarning: \n",
      "A value is trying to be set on a copy of a slice from a DataFrame.\n",
      "Try using .loc[row_indexer,col_indexer] = value instead\n",
      "\n",
      "See the caveats in the documentation: https://pandas.pydata.org/pandas-docs/stable/user_guide/indexing.html#returning-a-view-versus-a-copy\n",
      "  import sys\n"
     ]
    },
    {
     "name": "stdout",
     "output_type": "stream",
     "text": [
      "generate trigram\n"
     ]
    },
    {
     "name": "stderr",
     "output_type": "stream",
     "text": [
      "C:\\Users\\libod\\Anaconda3\\lib\\site-packages\\ipykernel_launcher.py:10: SettingWithCopyWarning: \n",
      "A value is trying to be set on a copy of a slice from a DataFrame.\n",
      "Try using .loc[row_indexer,col_indexer] = value instead\n",
      "\n",
      "See the caveats in the documentation: https://pandas.pydata.org/pandas-docs/stable/user_guide/indexing.html#returning-a-view-versus-a-copy\n",
      "  # Remove the CWD from sys.path while we load stuff.\n",
      "C:\\Users\\libod\\Anaconda3\\lib\\site-packages\\ipykernel_launcher.py:11: SettingWithCopyWarning: \n",
      "A value is trying to be set on a copy of a slice from a DataFrame.\n",
      "Try using .loc[row_indexer,col_indexer] = value instead\n",
      "\n",
      "See the caveats in the documentation: https://pandas.pydata.org/pandas-docs/stable/user_guide/indexing.html#returning-a-view-versus-a-copy\n",
      "  # This is added back by InteractiveShellApp.init_path()\n"
     ]
    }
   ],
   "source": [
    "print(\"generate unigram\")\n",
    "related_data[\"Headline_unigram\"] = related_data[\"Headline\"].map(lambda x: preprocess_data(x))\n",
    "related_data[\"articleBody_unigram\"] = related_data[\"articleBody\"].map(lambda x: preprocess_data(x))\n",
    "\n",
    "print(\"generate bigram\")\n",
    "related_data[\"Headline_bigram\"] = related_data[\"Headline_unigram\"].map(lambda x: getBigram(x))\n",
    "related_data[\"articleBody_bigram\"] = related_data[\"articleBody_unigram\"].map(lambda x: getBigram(x))\n",
    "\n",
    "print(\"generate trigram\")\n",
    "related_data[\"Headline_trigram\"] = related_data[\"Headline_unigram\"].map(lambda x: getTrigram(x))\n",
    "related_data[\"articleBody_trigram\"] = related_data[\"articleBody_unigram\"].map(lambda x: getTrigram(x))      "
   ]
  },
  {
   "cell_type": "code",
   "execution_count": 16,
   "metadata": {},
   "outputs": [
    {
     "data": {
      "text/html": [
       "<div>\n",
       "<style scoped>\n",
       "    .dataframe tbody tr th:only-of-type {\n",
       "        vertical-align: middle;\n",
       "    }\n",
       "\n",
       "    .dataframe tbody tr th {\n",
       "        vertical-align: top;\n",
       "    }\n",
       "\n",
       "    .dataframe thead th {\n",
       "        text-align: right;\n",
       "    }\n",
       "</style>\n",
       "<table border=\"1\" class=\"dataframe\">\n",
       "  <thead>\n",
       "    <tr style=\"text-align: right;\">\n",
       "      <th></th>\n",
       "      <th>Headline</th>\n",
       "      <th>Body ID</th>\n",
       "      <th>Stance</th>\n",
       "      <th>articleBody</th>\n",
       "      <th>target</th>\n",
       "      <th>Headline_unigram</th>\n",
       "      <th>Headline_bigram</th>\n",
       "      <th>articleBody_unigram</th>\n",
       "      <th>articleBody_bigram</th>\n",
       "      <th>Headline_trigram</th>\n",
       "      <th>articleBody_trigram</th>\n",
       "    </tr>\n",
       "  </thead>\n",
       "  <tbody>\n",
       "    <tr>\n",
       "      <th>1</th>\n",
       "      <td>Hundreds of Palestinians flee floods in Gaza a...</td>\n",
       "      <td>158</td>\n",
       "      <td>agree</td>\n",
       "      <td>Hundreds of Palestinians were evacuated from t...</td>\n",
       "      <td>0</td>\n",
       "      <td>[hundr, palestinian, flee, flood, gaza, israel...</td>\n",
       "      <td>[hundr palestinian, palestinian flee, flee flo...</td>\n",
       "      <td>[hundr, palestinian, evacu, home, sunday, morn...</td>\n",
       "      <td>[hundr palestinian, palestinian evacu, evacu h...</td>\n",
       "      <td>[hundr palestinian flee, palestinian flee floo...</td>\n",
       "      <td>[hundr palestinian evacu, palestinian evacu ho...</td>\n",
       "    </tr>\n",
       "    <tr>\n",
       "      <th>4</th>\n",
       "      <td>Spider burrowed through tourist's stomach and ...</td>\n",
       "      <td>1923</td>\n",
       "      <td>disagree</td>\n",
       "      <td>Fear not arachnophobes, the story of Bunbury's...</td>\n",
       "      <td>1</td>\n",
       "      <td>[spider, burrow, tourist, stomach, chest]</td>\n",
       "      <td>[spider burrow, burrow tourist, tourist stomac...</td>\n",
       "      <td>[fear, arachnophob, stori, bunburi, spiderman,...</td>\n",
       "      <td>[fear arachnophob, arachnophob stori, stori bu...</td>\n",
       "      <td>[spider burrow tourist, burrow tourist stomach...</td>\n",
       "      <td>[fear arachnophob stori, arachnophob stori bun...</td>\n",
       "    </tr>\n",
       "    <tr>\n",
       "      <th>5</th>\n",
       "      <td>'Nasa Confirms Earth Will Experience 6 Days of...</td>\n",
       "      <td>154</td>\n",
       "      <td>agree</td>\n",
       "      <td>Thousands of people have been duped by a fake ...</td>\n",
       "      <td>0</td>\n",
       "      <td>[nasa, confirm, earth, experi, day, total, dar...</td>\n",
       "      <td>[nasa confirm, confirm earth, earth experi, ex...</td>\n",
       "      <td>[thousand, peopl, dupe, fake, news, stori, cla...</td>\n",
       "      <td>[thousand peopl, peopl dupe, dupe fake, fake n...</td>\n",
       "      <td>[nasa confirm earth, confirm earth experi, ear...</td>\n",
       "      <td>[thousand peopl dupe, peopl dupe fake, dupe fa...</td>\n",
       "    </tr>\n",
       "    <tr>\n",
       "      <th>8</th>\n",
       "      <td>Banksy 'Arrested &amp; Real Identity Revealed' Is ...</td>\n",
       "      <td>1739</td>\n",
       "      <td>agree</td>\n",
       "      <td>If you’ve seen a story floating around on your...</td>\n",
       "      <td>0</td>\n",
       "      <td>[banksi, arrest, real, ident, reveal, hoax, la...</td>\n",
       "      <td>[banksi arrest, arrest real, real ident, ident...</td>\n",
       "      <td>[seen, stori, float, around, facebook, feed, b...</td>\n",
       "      <td>[seen stori, stori float, float around, around...</td>\n",
       "      <td>[banksi arrest real, arrest real ident, real i...</td>\n",
       "      <td>[seen stori float, stori float around, float a...</td>\n",
       "    </tr>\n",
       "    <tr>\n",
       "      <th>10</th>\n",
       "      <td>Gateway Pundit</td>\n",
       "      <td>2327</td>\n",
       "      <td>discuss</td>\n",
       "      <td>A British rapper whose father is awaiting tria...</td>\n",
       "      <td>2</td>\n",
       "      <td>[gateway, pundit]</td>\n",
       "      <td>[gateway pundit]</td>\n",
       "      <td>[british, rapper, whose, father, await, trial,...</td>\n",
       "      <td>[british rapper, rapper whose, whose father, f...</td>\n",
       "      <td>[gateway pundit]</td>\n",
       "      <td>[british rapper whose, rapper whose father, wh...</td>\n",
       "    </tr>\n",
       "  </tbody>\n",
       "</table>\n",
       "</div>"
      ],
      "text/plain": [
       "                                             Headline  Body ID    Stance  \\\n",
       "1   Hundreds of Palestinians flee floods in Gaza a...      158     agree   \n",
       "4   Spider burrowed through tourist's stomach and ...     1923  disagree   \n",
       "5   'Nasa Confirms Earth Will Experience 6 Days of...      154     agree   \n",
       "8   Banksy 'Arrested & Real Identity Revealed' Is ...     1739     agree   \n",
       "10                                     Gateway Pundit     2327   discuss   \n",
       "\n",
       "                                          articleBody  target  \\\n",
       "1   Hundreds of Palestinians were evacuated from t...       0   \n",
       "4   Fear not arachnophobes, the story of Bunbury's...       1   \n",
       "5   Thousands of people have been duped by a fake ...       0   \n",
       "8   If you’ve seen a story floating around on your...       0   \n",
       "10  A British rapper whose father is awaiting tria...       2   \n",
       "\n",
       "                                     Headline_unigram  \\\n",
       "1   [hundr, palestinian, flee, flood, gaza, israel...   \n",
       "4           [spider, burrow, tourist, stomach, chest]   \n",
       "5   [nasa, confirm, earth, experi, day, total, dar...   \n",
       "8   [banksi, arrest, real, ident, reveal, hoax, la...   \n",
       "10                                  [gateway, pundit]   \n",
       "\n",
       "                                      Headline_bigram  \\\n",
       "1   [hundr palestinian, palestinian flee, flee flo...   \n",
       "4   [spider burrow, burrow tourist, tourist stomac...   \n",
       "5   [nasa confirm, confirm earth, earth experi, ex...   \n",
       "8   [banksi arrest, arrest real, real ident, ident...   \n",
       "10                                   [gateway pundit]   \n",
       "\n",
       "                                  articleBody_unigram  \\\n",
       "1   [hundr, palestinian, evacu, home, sunday, morn...   \n",
       "4   [fear, arachnophob, stori, bunburi, spiderman,...   \n",
       "5   [thousand, peopl, dupe, fake, news, stori, cla...   \n",
       "8   [seen, stori, float, around, facebook, feed, b...   \n",
       "10  [british, rapper, whose, father, await, trial,...   \n",
       "\n",
       "                                   articleBody_bigram  \\\n",
       "1   [hundr palestinian, palestinian evacu, evacu h...   \n",
       "4   [fear arachnophob, arachnophob stori, stori bu...   \n",
       "5   [thousand peopl, peopl dupe, dupe fake, fake n...   \n",
       "8   [seen stori, stori float, float around, around...   \n",
       "10  [british rapper, rapper whose, whose father, f...   \n",
       "\n",
       "                                     Headline_trigram  \\\n",
       "1   [hundr palestinian flee, palestinian flee floo...   \n",
       "4   [spider burrow tourist, burrow tourist stomach...   \n",
       "5   [nasa confirm earth, confirm earth experi, ear...   \n",
       "8   [banksi arrest real, arrest real ident, real i...   \n",
       "10                                   [gateway pundit]   \n",
       "\n",
       "                                  articleBody_trigram  \n",
       "1   [hundr palestinian evacu, palestinian evacu ho...  \n",
       "4   [fear arachnophob stori, arachnophob stori bun...  \n",
       "5   [thousand peopl dupe, peopl dupe fake, dupe fa...  \n",
       "8   [seen stori float, stori float around, float a...  \n",
       "10  [british rapper whose, rapper whose father, wh...  "
      ]
     },
     "execution_count": 16,
     "metadata": {},
     "output_type": "execute_result"
    }
   ],
   "source": [
    "related_data.head()"
   ]
  },
  {
   "cell_type": "code",
   "execution_count": 17,
   "metadata": {},
   "outputs": [
    {
     "data": {
      "text/plain": [
       "(13427, 11)"
      ]
     },
     "execution_count": 17,
     "metadata": {},
     "output_type": "execute_result"
    }
   ],
   "source": [
    "related_data.shape"
   ]
  },
  {
   "cell_type": "code",
   "execution_count": 18,
   "metadata": {},
   "outputs": [
    {
     "name": "stdout",
     "output_type": "stream",
     "text": [
      "related dataframe saved in related_data.pkl\n"
     ]
    }
   ],
   "source": [
    "with open('related_data.pkl','wb') as outfile:\n",
    "    pickle.dump(related_data, outfile, -1)\n",
    "    print('related dataframe saved in related_data.pkl')"
   ]
  }
 ],
 "metadata": {
  "kernelspec": {
   "display_name": "Python 3",
   "language": "python",
   "name": "python3"
  },
  "language_info": {
   "codemirror_mode": {
    "name": "ipython",
    "version": 3
   },
   "file_extension": ".py",
   "mimetype": "text/x-python",
   "name": "python",
   "nbconvert_exporter": "python",
   "pygments_lexer": "ipython3",
   "version": "3.7.1"
  }
 },
 "nbformat": 4,
 "nbformat_minor": 4
}
