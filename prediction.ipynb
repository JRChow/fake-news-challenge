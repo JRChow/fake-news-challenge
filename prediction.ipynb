{
 "cells": [
  {
   "cell_type": "code",
   "execution_count": 1,
   "metadata": {},
   "outputs": [],
   "source": [
    "import tensorflow_hub as hub\n",
    "import pickle\n",
    "import numpy as np\n",
    "import xgboost as xgb\n",
    "from clean import *\n",
    "from CountFeatureGenerator import *\n",
    "from TfidfFeatureGenerator import *\n",
    "from SvdFeatureGenerator import *\n",
    "from Word2VecFeatureGenerator import *\n",
    "from SentimentFeatureGenerator import *\n",
    "from score import report_score, LABELS, score_submission\n",
    "from sklearn.ensemble import GradientBoostingClassifier"
   ]
  },
  {
   "cell_type": "code",
   "execution_count": 2,
   "metadata": {},
   "outputs": [],
   "source": [
    "import warnings\n",
    "warnings.filterwarnings('ignore')"
   ]
  },
  {
   "cell_type": "code",
   "execution_count": 3,
   "metadata": {},
   "outputs": [],
   "source": [
    "open_process_rewrite('fnc-1/competition_test_bodies.csv')\n",
    "open_process_rewrite('fnc-1/competition_test_stances_unlabeled.csv')"
   ]
  },
  {
   "cell_type": "code",
   "execution_count": 4,
   "metadata": {},
   "outputs": [],
   "source": [
    "test_bodies = pd.read_csv(\"fnc-1/competition_test_bodies_processed.csv\")\n",
    "test_unlabeled_stances = pd.read_csv(\"fnc-1/competition_test_stances_unlabeled_processed.csv\")\n",
    "test_stances = pd.read_csv(\"fnc-1/competition_test_stances.csv\")"
   ]
  },
  {
   "cell_type": "code",
   "execution_count": 5,
   "metadata": {},
   "outputs": [],
   "source": [
    "test_df = pd.merge(test_unlabeled_stances, test_bodies, how='left', on='Body ID')"
   ]
  },
  {
   "cell_type": "code",
   "execution_count": 6,
   "metadata": {},
   "outputs": [],
   "source": [
    "def add_embedding(emb, bodies, stances):\n",
    "    body_embedding = emb(bodies[\"articleBody\"].astype(str)).numpy()\n",
    "    headline_embedding = emb(stances[\"Headline\"].astype(str)).numpy()\n",
    "    body_aug   = pd.concat([bodies[\"Body ID\"],  \n",
    "                          pd.DataFrame(body_embedding)],     \n",
    "                         axis=1)\n",
    "    stance_aug = pd.concat([stances[[\"Body ID\", \"Stance\"]], \n",
    "                          pd.DataFrame(headline_embedding)], \n",
    "                         axis=1)\n",
    "    return body_aug, stance_aug"
   ]
  },
  {
   "cell_type": "code",
   "execution_count": 7,
   "metadata": {},
   "outputs": [],
   "source": [
    "use_base = hub.load(\"https://tfhub.dev/google/universal-sentence-encoder/4\")\n",
    "test_bodies_aug,  test_stances_aug  = add_embedding(use_base, \n",
    "                                                    test_bodies,  \n",
    "                                                    test_stances)"
   ]
  },
  {
   "cell_type": "code",
   "execution_count": 8,
   "metadata": {},
   "outputs": [],
   "source": [
    "def make_X_y(bodies_aug, stances_aug):\n",
    "    X = pd.merge(bodies_aug, stances_aug, how='left', on='Body ID')\n",
    "    y = X[\"Stance\"]\n",
    "    X.drop(columns=['Body ID','Stance'], inplace=True)\n",
    "    return X, y"
   ]
  },
  {
   "cell_type": "code",
   "execution_count": 9,
   "metadata": {},
   "outputs": [],
   "source": [
    "test_X, test_y = make_X_y(test_bodies_aug, test_stances_aug)"
   ]
  },
  {
   "cell_type": "code",
   "execution_count": 10,
   "metadata": {},
   "outputs": [],
   "source": [
    "from joblib import dump, load"
   ]
  },
  {
   "cell_type": "code",
   "execution_count": 11,
   "metadata": {},
   "outputs": [],
   "source": [
    "binary_clf = load('binary.joblib')\n",
    "binary_pred_y = binary_clf.predict(test_X)"
   ]
  },
  {
   "cell_type": "code",
   "execution_count": 40,
   "metadata": {},
   "outputs": [
    {
     "data": {
      "text/plain": [
       "7064"
      ]
     },
     "execution_count": 40,
     "metadata": {},
     "output_type": "execute_result"
    }
   ],
   "source": [
    "sum(test_y!='unrelated')"
   ]
  },
  {
   "cell_type": "code",
   "execution_count": 13,
   "metadata": {
    "scrolled": true
   },
   "outputs": [
    {
     "data": {
      "text/plain": [
       "3505"
      ]
     },
     "execution_count": 13,
     "metadata": {},
     "output_type": "execute_result"
    }
   ],
   "source": [
    "sum(binary_pred_y)"
   ]
  },
  {
   "cell_type": "code",
   "execution_count": 15,
   "metadata": {},
   "outputs": [
    {
     "data": {
      "text/plain": [
       "(3505, 3)"
      ]
     },
     "execution_count": 15,
     "metadata": {},
     "output_type": "execute_result"
    }
   ],
   "source": [
    "related_test_df = test_df[binary_pred_y==1]\n",
    "related_test_df.shape"
   ]
  },
  {
   "cell_type": "code",
   "execution_count": 16,
   "metadata": {},
   "outputs": [
    {
     "data": {
      "text/html": [
       "<div>\n",
       "<style scoped>\n",
       "    .dataframe tbody tr th:only-of-type {\n",
       "        vertical-align: middle;\n",
       "    }\n",
       "\n",
       "    .dataframe tbody tr th {\n",
       "        vertical-align: top;\n",
       "    }\n",
       "\n",
       "    .dataframe thead th {\n",
       "        text-align: right;\n",
       "    }\n",
       "</style>\n",
       "<table border=\"1\" class=\"dataframe\">\n",
       "  <thead>\n",
       "    <tr style=\"text-align: right;\">\n",
       "      <th></th>\n",
       "      <th>Headline</th>\n",
       "      <th>Body ID</th>\n",
       "      <th>articleBody</th>\n",
       "    </tr>\n",
       "  </thead>\n",
       "  <tbody>\n",
       "    <tr>\n",
       "      <th>1</th>\n",
       "      <td>Crazy Conservatives Are Sure a Gitmo Detainee ...</td>\n",
       "      <td>1550</td>\n",
       "      <td>Dave Morin's social networking company Path is...</td>\n",
       "    </tr>\n",
       "    <tr>\n",
       "      <th>93</th>\n",
       "      <td>Florida woman gets third breast surgically imp...</td>\n",
       "      <td>1128</td>\n",
       "      <td>A WOMAN has spent $20,000 on surgery to get a ...</td>\n",
       "    </tr>\n",
       "    <tr>\n",
       "      <th>107</th>\n",
       "      <td>Report: Joan Rivers doctor took selfie, began ...</td>\n",
       "      <td>2467</td>\n",
       "      <td>A Facebook post By Tikal goldie showed a image...</td>\n",
       "    </tr>\n",
       "    <tr>\n",
       "      <th>129</th>\n",
       "      <td>‘Three-boobed’ woman: They’re not fake</td>\n",
       "      <td>1617</td>\n",
       "      <td>The woman who claimed she had a third breast h...</td>\n",
       "    </tr>\n",
       "    <tr>\n",
       "      <th>155</th>\n",
       "      <td>Is 'hands up' in Hong Kong really the same as ...</td>\n",
       "      <td>1947</td>\n",
       "      <td>A man scheduled to fly from New York to Dallas...</td>\n",
       "    </tr>\n",
       "  </tbody>\n",
       "</table>\n",
       "</div>"
      ],
      "text/plain": [
       "                                              Headline  Body ID  \\\n",
       "1    Crazy Conservatives Are Sure a Gitmo Detainee ...     1550   \n",
       "93   Florida woman gets third breast surgically imp...     1128   \n",
       "107  Report: Joan Rivers doctor took selfie, began ...     2467   \n",
       "129             ‘Three-boobed’ woman: They’re not fake     1617   \n",
       "155  Is 'hands up' in Hong Kong really the same as ...     1947   \n",
       "\n",
       "                                           articleBody  \n",
       "1    Dave Morin's social networking company Path is...  \n",
       "93   A WOMAN has spent $20,000 on surgery to get a ...  \n",
       "107  A Facebook post By Tikal goldie showed a image...  \n",
       "129  The woman who claimed she had a third breast h...  \n",
       "155  A man scheduled to fly from New York to Dallas...  "
      ]
     },
     "execution_count": 16,
     "metadata": {},
     "output_type": "execute_result"
    }
   ],
   "source": [
    "related_test_df.head()"
   ]
  },
  {
   "cell_type": "code",
   "execution_count": 17,
   "metadata": {},
   "outputs": [
    {
     "name": "stdout",
     "output_type": "stream",
     "text": [
      "generate unigram\n",
      "generate bigram\n",
      "generate trigram\n"
     ]
    }
   ],
   "source": [
    "print(\"generate unigram\")\n",
    "related_test_df[\"Headline_unigram\"] = related_test_df[\"Headline\"].map(lambda x: preprocess_data(x))\n",
    "related_test_df[\"articleBody_unigram\"] = related_test_df[\"articleBody\"].map(lambda x: preprocess_data(x))\n",
    "\n",
    "print(\"generate bigram\")\n",
    "related_test_df[\"Headline_bigram\"] = related_test_df[\"Headline_unigram\"].map(lambda x: getBigram(x))\n",
    "related_test_df[\"articleBody_bigram\"] = related_test_df[\"articleBody_unigram\"].map(lambda x: getBigram(x))\n",
    "\n",
    "print(\"generate trigram\")\n",
    "related_test_df[\"Headline_trigram\"] = related_test_df[\"Headline_unigram\"].map(lambda x: getTrigram(x))\n",
    "related_test_df[\"articleBody_trigram\"] = related_test_df[\"articleBody_unigram\"].map(lambda x: getTrigram(x))      "
   ]
  },
  {
   "cell_type": "code",
   "execution_count": 18,
   "metadata": {},
   "outputs": [
    {
     "data": {
      "text/plain": [
       "(3505, 9)"
      ]
     },
     "execution_count": 18,
     "metadata": {},
     "output_type": "execute_result"
    }
   ],
   "source": [
    "related_test_df.shape"
   ]
  },
  {
   "cell_type": "code",
   "execution_count": 19,
   "metadata": {},
   "outputs": [
    {
     "name": "stdout",
     "output_type": "stream",
     "text": [
      "generate counting features\n",
      "basic counting features for training saved in feature_pkl/competition_test.basic.pkl\n",
      "xHeadlineTfidf.shape: (3505, 205006)\n",
      "headline tfidf features of data set saved in feature_pkl/competition_test.headline.tfidf.pkl\n",
      "xBodyTfidf.shape: (3505, 205006)\n",
      "body tfidf features of data set saved in feature_pkl/competition_test.body.tfidf.pkl\n",
      "simTfidf.shape: (3505, 1)\n",
      "tfidf sim. features of data set saved in feature_pkl/competition_test.sim.tfidf.pkl\n",
      "xHeadlineTfidf.shape: (3505, 205006)\n",
      "xBodyTfidf.shape: (3505, 205006)\n",
      "simTfidf.shape: (3505, 1)\n",
      "xHeadlineTfidf.shape: (3505, 205006)\n",
      "xHeadlineSvd.shape: (3505, 50)\n",
      "headline svd features of data set saved in feature_pkl/competition_test.headline.svd.pkl\n",
      "xBodySvd.shape: (3505, 50)\n",
      "body svd features of training set saved in feature_pkl/competition_test.body.svd.pkl\n",
      "simSvd.shape: (3505, 1)\n",
      "svd sim. features of data set saved in feature_pkl/competition_test.sim.svd.pkl\n",
      "generating word2vec features\n",
      "model loaded\n",
      "Headline_unigram_array:  (3505,)\n",
      "headlineVec  (3505, 300)\n",
      "headline word2vec features of data set saved in feature_pkl/competition_test.headline.word2vec.pkl\n",
      "headine done\n",
      "Body_unigram_array:  (3505,)\n",
      "bodyVec  (3505, 300)\n",
      "body word2vec features of data set saved in feature_pkl/competition_test.body.word2vec.pkl\n",
      "body done\n",
      "simVec.shape: (3505, 1)\n",
      "word2vec sim. features of data set saved in feature_pkl/competition_test.sim.word2vec.pkl\n",
      "generating sentiment features\n",
      "for headline\n",
      "headlineSenti.shape: (3505, 4)\n",
      "headline sentiment features of dataset saved in feature_pkl/competition_test.headline.senti.pkl\n",
      "headine senti done\n",
      "for body\n",
      "bodySenti.shape: (3505, 4)\n",
      "body sentiment features of dataset saved in feature_pkl/competition_test.body.senti.pkl\n",
      "body senti done\n"
     ]
    }
   ],
   "source": [
    "generators = [\n",
    "    CountFeatureGenerator(),\n",
    "    TfidfFeatureGenerator(),\n",
    "    SvdFeatureGenerator(),\n",
    "    Word2VecFeatureGenerator(),\n",
    "    SentimentFeatureGenerator()\n",
    "]\n",
    "\n",
    "for g in generators:\n",
    "    g.process(related_test_df, header='competition_test')"
   ]
  },
  {
   "cell_type": "code",
   "execution_count": 20,
   "metadata": {},
   "outputs": [
    {
     "name": "stdout",
     "output_type": "stream",
     "text": [
      "feature names:  ['count_of_Headline_unigram', 'count_of_unique_Headline_unigram', 'ratio_of_unique_Headline_unigram', 'count_of_Headline_bigram', 'count_of_unique_Headline_bigram', 'ratio_of_unique_Headline_bigram', 'count_of_Headline_trigram', 'count_of_unique_Headline_trigram', 'ratio_of_unique_Headline_trigram', 'count_of_articleBody_unigram', 'count_of_unique_articleBody_unigram', 'ratio_of_unique_articleBody_unigram', 'count_of_articleBody_bigram', 'count_of_unique_articleBody_bigram', 'ratio_of_unique_articleBody_bigram', 'count_of_articleBody_trigram', 'count_of_unique_articleBody_trigram', 'ratio_of_unique_articleBody_trigram', 'count_of_Headline_unigram_in_articleBody', 'ratio_of_Headline_unigram_in_articleBody', 'count_of_Headline_bigram_in_articleBody', 'ratio_of_Headline_bigram_in_articleBody', 'count_of_Headline_trigram_in_articleBody', 'ratio_of_Headline_trigram_in_articleBody', 'len_sent_Headline', 'len_sent_articleBody', 'fake_exist', 'fraud_exist', 'hoax_exist', 'false_exist', 'deny_exist', 'denies_exist', 'not_exist', 'despite_exist', 'nope_exist', 'doubt_exist', 'doubts_exist', 'bogus_exist', 'debunk_exist', 'pranks_exist', 'retract_exist']\n",
      "xBasicCounts.shape: (3505, 41)\n",
      "xHeadlineTfidf.shape: (3505, 205006)\n",
      "xBodyTfidf.shape: (3505, 205006)\n",
      "simTfidf.shape: (3505, 1)\n",
      "xHeadlineSvd.shape: (3505, 50)\n",
      "xBodySvd.shape: (3505, 50)\n",
      "simSvd.shape: (3505, 1)\n",
      "headlineVec.shape: (3505, 300)\n",
      "bodyVec.shape: (3505, 300)\n",
      "simVec.shape: (3505, 1)\n",
      "headlineSenti.shape: (3505, 4)\n",
      "bodySenti.shape: (3505, 4)\n",
      "(3505, 752)\n"
     ]
    }
   ],
   "source": [
    "related_test_features = []\n",
    "for g in generators:\n",
    "    features = g.read(header='competition_test')\n",
    "    if g.name()=='tfidfFeatureGenerator':\n",
    "        related_test_features.append(features[-1])\n",
    "    else:\n",
    "        for f in features:\n",
    "            related_test_features.append(f)\n",
    "related_test_X = np.hstack(related_test_features)\n",
    "print(related_test_X.shape)"
   ]
  },
  {
   "cell_type": "code",
   "execution_count": 21,
   "metadata": {},
   "outputs": [],
   "source": [
    "relation_clf = load('relation.joblib')\n",
    "relation_pred_y = relation_clf.predict(related_test_X)"
   ]
  },
  {
   "cell_type": "code",
   "execution_count": 22,
   "metadata": {},
   "outputs": [
    {
     "data": {
      "text/plain": [
       "(3505,)"
      ]
     },
     "execution_count": 22,
     "metadata": {},
     "output_type": "execute_result"
    }
   ],
   "source": [
    "relation_pred_y.shape"
   ]
  },
  {
   "cell_type": "code",
   "execution_count": 24,
   "metadata": {},
   "outputs": [],
   "source": [
    "prediction = binary_pred_y"
   ]
  },
  {
   "cell_type": "code",
   "execution_count": 25,
   "metadata": {},
   "outputs": [],
   "source": [
    "prediction[prediction==0]=3"
   ]
  },
  {
   "cell_type": "code",
   "execution_count": 27,
   "metadata": {},
   "outputs": [],
   "source": [
    "prediction[prediction==1] = relation_pred_y"
   ]
  },
  {
   "cell_type": "code",
   "execution_count": 31,
   "metadata": {},
   "outputs": [],
   "source": [
    "predicted = [LABELS[int(a)] for a in prediction]"
   ]
  },
  {
   "cell_type": "code",
   "execution_count": 35,
   "metadata": {},
   "outputs": [
    {
     "name": "stdout",
     "output_type": "stream",
     "text": [
      "-------------------------------------------------------------\n",
      "|           |   agree   | disagree  |  discuss  | unrelated |\n",
      "-------------------------------------------------------------\n",
      "|   agree   |    117    |     5     |    608    |   1173    |\n",
      "-------------------------------------------------------------\n",
      "| disagree  |    30     |     4     |    171    |    492    |\n",
      "-------------------------------------------------------------\n",
      "|  discuss  |    352    |    15     |   1700    |   2397    |\n",
      "-------------------------------------------------------------\n",
      "| unrelated |    103    |    10     |    390    |   17846   |\n",
      "-------------------------------------------------------------\n",
      "Score: 6577.75 out of 11651.25\t(56.4553159532239%)\n"
     ]
    },
    {
     "data": {
      "text/plain": [
       "56.4553159532239"
      ]
     },
     "execution_count": 35,
     "metadata": {},
     "output_type": "execute_result"
    }
   ],
   "source": [
    "report_score(test_y, predicted)"
   ]
  }
 ],
 "metadata": {
  "kernelspec": {
   "display_name": "Python 3",
   "language": "python",
   "name": "python3"
  },
  "language_info": {
   "codemirror_mode": {
    "name": "ipython",
    "version": 3
   },
   "file_extension": ".py",
   "mimetype": "text/x-python",
   "name": "python",
   "nbconvert_exporter": "python",
   "pygments_lexer": "ipython3",
   "version": "3.7.1"
  }
 },
 "nbformat": 4,
 "nbformat_minor": 4
}
